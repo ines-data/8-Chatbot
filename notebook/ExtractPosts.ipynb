{
 "cells": [
  {
   "cell_type": "code",
   "execution_count": 7,
   "metadata": {},
   "outputs": [
    {
     "name": "stderr",
     "output_type": "stream",
     "text": [
      "/home/sacia/anaconda3/envs/MachineLearning/lib/python3.7/site-packages/ipykernel_launcher.py:36: DeprecationWarning: insert is deprecated. Use insert_one or insert_many instead.\n",
      "/home/sacia/anaconda3/envs/MachineLearning/lib/python3.7/site-packages/ipykernel_launcher.py:45: DeprecationWarning: insert is deprecated. Use insert_one or insert_many instead.\n",
      "/home/sacia/anaconda3/envs/MachineLearning/lib/python3.7/site-packages/ipykernel_launcher.py:51: DeprecationWarning: count is deprecated. Use estimated_document_count or count_documents instead. Please note that $where must be replaced by $expr, $near must be replaced by $geoWithin with $center, and $nearSphere must be replaced by $geoWithin with $centerSphere\n"
     ]
    }
   ],
   "source": [
    "'''\n",
    "Extract the data from an xml file previously downloaded from : \n",
    "https://archive.org/download/stackexchange\n",
    " '''\n",
    "# import of librairy\n",
    "\n",
    "import xml.etree.ElementTree as ET\n",
    "import pymongo\n",
    "import html2markdown\n",
    "from lxml import etree\n",
    "from collections import defaultdict\n",
    "\n",
    "# connection to mongodb\n",
    "client = pymongo.MongoClient(\"mongodb://localhost:27017/\")\n",
    "\n",
    "\n",
    "#Building a mongo collection from an xml file. \n",
    "#For each element, we keep only the following informations: \n",
    "# id , PostTypeId , AcceptedAnswerId , Body\n",
    "\n",
    "def extractPosts(mycol,file):\n",
    "    \n",
    "    tree = ET.parse(file)\n",
    "    root = tree.getroot()\n",
    "   \n",
    "    import time\n",
    "    \n",
    "    start_time = time.time()\n",
    "    \n",
    "    liste_des_reponsesId=[]\n",
    "    for child in root:\n",
    "        type_id = child.attrib['PostTypeId']\n",
    "\n",
    "        try:\n",
    "            rep_id = child.attrib['AcceptedAnswerId']\n",
    "        except:\n",
    "            rep_id = 0\n",
    "\n",
    "        if (type_id=='1' and rep_id !=0) : \n",
    "            quest = child.attrib['Body']\n",
    "            question = html2markdown.convert(quest) \n",
    "            liste_des_reponsesId.append(rep_id)\n",
    "            dict = [{'_id':child.attrib['Id'], 'PostTypeId':1, 'AcceptedAnswerId':rep_id, 'question':question}]\n",
    "            x = mycol.insert(dict)\n",
    "\n",
    "    for index in liste_des_reponsesId : \n",
    "        found = False\n",
    "        for child in root:\n",
    "            if index == child.attrib['Id'] :\n",
    "                rep = child.attrib['Body']\n",
    "                reponse = html2markdown.convert(rep)\n",
    "                dict = [{'_id':index , 'PostTypeId':2,  'response':reponse}]\n",
    "                x = mycol.insert(dict)\n",
    "                found = True\n",
    "            if found : break\n",
    "\n",
    "    end_time = time.time()\n",
    "    T = end_time - start_time\n",
    "    return T, mycol.count()\n",
    "\n",
    "\n",
    "mydb = client[\"NougatBD2\"]\n",
    "\n",
    "# creation of the collection astro2\n",
    "mycol = mydb[\"astro2\"]\n",
    "\n",
    "file = \"/home/sacia/Documents/WorkSpace/briefAgile/astronomy.stackexchange.com/Posts.xml\"\n",
    "time, count = extractPosts(mycol,file)\n"
   ]
  },
  {
   "cell_type": "code",
   "execution_count": 9,
   "metadata": {},
   "outputs": [
    {
     "name": "stdout",
     "output_type": "stream",
     "text": [
      " Time : 53.167    count : 10184\n"
     ]
    }
   ],
   "source": [
    "print (f\" Time : {round(time,3)}    count : {count}\")"
   ]
  },
  {
   "cell_type": "code",
   "execution_count": null,
   "metadata": {},
   "outputs": [],
   "source": [
    "# creation of the collection 'bioinfo' \n",
    "mycol = mydb[\"bioinfo\"]\n",
    "file = \"/home/sacia/Documents/WorkSpace/briefAgile/bioinformtics.stackexchange.com/Posts.xml\"\n",
    "time, count = extractPosts(mycol,file)\n",
    "\n",
    "# # creation of the collection 'datascience\n",
    "mycol = mydb[\"datascience\"]\n",
    "file = \"/home/sacia/Documents/WorkSpace/briefAgile/datascience.stackexchange.com/Posts.xml\"\n",
    "time, count = extractPosts(mycol,file)"
   ]
  },
  {
   "cell_type": "code",
   "execution_count": 12,
   "metadata": {},
   "outputs": [
    {
     "data": {
      "text/plain": [
       "['astro2', 'bioinfo', 'datascience', 'Feedback']"
      ]
     },
     "execution_count": 12,
     "metadata": {},
     "output_type": "execute_result"
    }
   ],
   "source": [
    "# display of collections created\n",
    "mydb.list_collection_names()"
   ]
  },
  {
   "cell_type": "code",
   "execution_count": null,
   "metadata": {},
   "outputs": [],
   "source": [
    "# Create index for 3 collections : 'astro2', 'bioinfo', 'datascience\n",
    "mydb.astro2.create_index( [('question','text')],background = True)\n"
   ]
  },
  {
   "cell_type": "code",
   "execution_count": 18,
   "metadata": {},
   "outputs": [
    {
     "data": {
      "text/plain": [
       "{'_id_': {'v': 2, 'key': [('_id', 1)], 'ns': 'NougatBD2.astro2'},\n",
       " 'question_text': {'v': 2,\n",
       "  'key': [('_fts', 'text'), ('_ftsx', 1)],\n",
       "  'ns': 'NougatBD2.astro2',\n",
       "  'weights': SON([('question', 1)]),\n",
       "  'default_language': 'english',\n",
       "  'language_override': 'language',\n",
       "  'textIndexVersion': 3}}"
      ]
     },
     "execution_count": 18,
     "metadata": {},
     "output_type": "execute_result"
    }
   ],
   "source": [
    "mydb.astro2.index_information()"
   ]
  },
  {
   "cell_type": "code",
   "execution_count": 22,
   "metadata": {},
   "outputs": [
    {
     "data": {
      "text/plain": [
       "{'_id_': {'v': 2, 'key': [('_id', 1)], 'ns': 'NougatBD2.astro2'},\n",
       " 'question_text': {'v': 2,\n",
       "  'key': [('_fts', 'text'), ('_ftsx', 1)],\n",
       "  'ns': 'NougatBD2.astro2',\n",
       "  'weights': SON([('question', 1)]),\n",
       "  'default_language': 'english',\n",
       "  'language_override': 'language',\n",
       "  'textIndexVersion': 3}}"
      ]
     },
     "execution_count": 22,
     "metadata": {},
     "output_type": "execute_result"
    }
   ],
   "source": [
    "# Get indexes\n",
    "mycol.index_information()"
   ]
  },
  {
   "cell_type": "code",
   "execution_count": 25,
   "metadata": {},
   "outputs": [
    {
     "data": {
      "text/plain": [
       "'question_text'"
      ]
     },
     "execution_count": 25,
     "metadata": {},
     "output_type": "execute_result"
    }
   ],
   "source": [
    "mydb.bioinfo.create_index( [('question','text')],background = True)"
   ]
  },
  {
   "cell_type": "code",
   "execution_count": 27,
   "metadata": {},
   "outputs": [
    {
     "data": {
      "text/plain": [
       "{'_id_': {'v': 2, 'key': [('_id', 1)], 'ns': 'NougatBD2.bioinfo'},\n",
       " 'question_text': {'v': 2,\n",
       "  'key': [('_fts', 'text'), ('_ftsx', 1)],\n",
       "  'ns': 'NougatBD2.bioinfo',\n",
       "  'background': True,\n",
       "  'weights': SON([('question', 1)]),\n",
       "  'default_language': 'english',\n",
       "  'language_override': 'language',\n",
       "  'textIndexVersion': 3}}"
      ]
     },
     "execution_count": 27,
     "metadata": {},
     "output_type": "execute_result"
    }
   ],
   "source": [
    "# Get indexes\n",
    "mydb.bioinfo.index_information()\n"
   ]
  },
  {
   "cell_type": "code",
   "execution_count": 28,
   "metadata": {},
   "outputs": [
    {
     "data": {
      "text/plain": [
       "{'_id_': {'v': 2, 'key': [('_id', 1)], 'ns': 'NougatBD2.datascience'},\n",
       " 'question_text': {'v': 2,\n",
       "  'key': [('_fts', 'text'), ('_ftsx', 1)],\n",
       "  'ns': 'NougatBD2.datascience',\n",
       "  'background': True,\n",
       "  'weights': SON([('question', 1)]),\n",
       "  'default_language': 'english',\n",
       "  'language_override': 'language',\n",
       "  'textIndexVersion': 3}}"
      ]
     },
     "execution_count": 28,
     "metadata": {},
     "output_type": "execute_result"
    }
   ],
   "source": [
    "mydb.datascience.create_index( [('question','text')],background = True)\n",
    "# Get indexes\n",
    "mydb.datascience.index_information()"
   ]
  },
  {
   "cell_type": "code",
   "execution_count": 30,
   "metadata": {},
   "outputs": [
    {
     "name": "stdout",
     "output_type": "stream",
     "text": [
      "id question :  12228\n",
      "id score :  1.658\n",
      "acceptedId : 22262\n"
     ]
    }
   ],
   "source": [
    "# the function resarchQuestion takes a question as input and sends us \n",
    "# AcceptedAnswerId of the answer\n",
    "\n",
    "def resarchQuestion(question):\n",
    "    mydoc = mycol.find({\"$text\": {\"$search\": question}},{\"score\": {\"$meta\": \"textScore\"}})\n",
    "    mydoc1= mydoc.sort([(\"score\", {\"$meta\":\"textScore\"})]).limit(1)\n",
    "    resp =[]\n",
    "    for x in mydoc1:\n",
    "        print(\"id question : \", x['_id'])\n",
    "        print(\"id score : \", x['score'])\n",
    "        id = x['AcceptedAnswerId']\n",
    "        return id\n",
    "\n",
    "question = \"how to calculte the inclination of a satellite\"\n",
    "id = resarchQuestion(question)\n",
    "print(f\"acceptedId : {id}\")\n"
   ]
  },
  {
   "cell_type": "code",
   "execution_count": 31,
   "metadata": {},
   "outputs": [
    {
     "name": "stdout",
     "output_type": "stream",
     "text": [
      "22262\n",
      "The most simple Lidov-Kozai model is that of a massless object ($m\\_1$ in your diagram) rotating a massive object ($m\\_0$), which is itself in an orbit with another massive object ($m\\_2$).\n",
      "\n",
      "This is a hierarchical 3-body system ($m\\_2$ is assumed to always be far enough from $m\\_0$ and $m\\_1$). It is easier to look at as two 2-body orbits:\n",
      "\n",
      "Inner orbit - $m\\_0$ and $m\\_1$\n",
      "\n",
      "Outer orbit - $m\\_2$ and $m\\_1$+$m\\_0$\n",
      "\n",
      "Since $m\\_1$ is massless, the outer orbit is not affected by it and is a simple Kepler orbit of 2 bodies ($m\\_0$ and $m\\_2$) with fixed parameters. Because of that, the outer orbit defines the coordinates system and lie in XY plane, with its angular momentum $\\\\vec{L}\\_{out}=L\\_{out}\\\\hat{z}$.What we really have here is a motion of a test-particle ($m\\_1$ a.k.a the perturbed) around a massive object ($m\\_0$) in a binary system (with $m\\_2$). The inner orbit can be viewed as a Kepler orbit with a perturbation due to $m\\_2$ (a.k.a the perturber). Its parameters do change with time and are described by the Lidov-Kozai mechanism.\n",
      "\n",
      "Using this model (which is probably what you're asking for):\n",
      "\n",
      "__Question A__\n",
      "\n",
      "The least massive object is the massless object $m\\_1$\n",
      "\n",
      "__Question B__\n",
      "\n",
      "What evolve are the parameters of the inner orbit ($m\\_0$ and $m\\_1$) - its eccentricity, inclination, angular momentum etc. How? in a periodic manner. The periodic change in the eccentricity literally means that the inner orbit becomes more circular, then more eccentric, then more circular again and again.The eccentricity-inclination change is easier to see because of the following constant of motion:\n",
      "\n",
      "$$\\\\sqrt{1-e^2}\\\\cos i = const. $$\n",
      "\n",
      "(It is not exactly $L\\_z$, but a scaled version of it $\\\\frac{L\\_z}{\\\\mu\\\\sqrt{GMa\\_{in}}}$. $\\\\mu,M$ being the reduced and total mass of the inner orbit respectively)\n",
      "\n",
      "The fact of this being constant is not easy to see, but if given as a fact and the fact the $e$ is periodic, you can see that the inclination $i$ is periodic.\n",
      "\n",
      "__Question C__\n",
      "\n",
      "When deriving this model one is \"averaging\" out (over one full period) the true-anomaly (the exact position of the mass inside the orbit) of $m\\_1$ around $m\\_0$ -&gt; meaning we refer to the inner orbit as an \"elliptic ring\", and the same goes for the outer orbit. We also assume no energy exchange between both orbits (rings), so both inner/outer semi-major axes are also fixed (from the relation $E=-\\\\frac{GM}{2a}$, where M is the total mass of the orbit)\n",
      "\n",
      "Generally speaking (without any averaging) - this is still a chaotic 3-body problem and everything can happen - the inner orbit might just completely be destroyed by m1 being thrown out of the system, for an instance.\n"
     ]
    }
   ],
   "source": [
    "#get_response thisfunction that takes the id as input and returns the corresponding response\n",
    "\n",
    "def get_response(_id) : \n",
    "    myquery1 = { \"_id\": _id }\n",
    "    reponses = mycol.find(myquery1)\n",
    "    for rep in reponses :\n",
    "        reponse = rep['response']\n",
    "        print(_id)\n",
    "    return reponse\n",
    "\n",
    "print(get_response(id))"
   ]
  },
  {
   "cell_type": "code",
   "execution_count": null,
   "metadata": {},
   "outputs": [],
   "source": []
  }
 ],
 "metadata": {
  "kernelspec": {
   "display_name": "Python 3",
   "language": "python",
   "name": "python3"
  },
  "language_info": {
   "codemirror_mode": {
    "name": "ipython",
    "version": 3
   },
   "file_extension": ".py",
   "mimetype": "text/x-python",
   "name": "python",
   "nbconvert_exporter": "python",
   "pygments_lexer": "ipython3",
   "version": "3.7.9"
  }
 },
 "nbformat": 4,
 "nbformat_minor": 4
}
